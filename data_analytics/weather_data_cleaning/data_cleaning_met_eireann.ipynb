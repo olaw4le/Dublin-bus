{
 "cells": [
  {
   "cell_type": "code",
   "execution_count": 1,
   "metadata": {},
   "outputs": [],
   "source": [
    "import pandas as pd"
   ]
  },
  {
   "cell_type": "code",
   "execution_count": 2,
   "metadata": {},
   "outputs": [
    {
     "name": "stderr",
     "output_type": "stream",
     "text": [
      "C:\\Users\\milob\\Anaconda3\\envs\\research-project\\lib\\site-packages\\IPython\\core\\interactiveshell.py:3063: DtypeWarning: Columns (4,6,7,8,9,10) have mixed types.Specify dtype option on import or set low_memory=False.\n",
      "  interactivity=interactivity, compiler=compiler, result=result)\n"
     ]
    }
   ],
   "source": [
    "data = pd.read_csv(\"met_eireann_historical_without_header.csv\")"
   ]
  },
  {
   "cell_type": "code",
   "execution_count": 3,
   "metadata": {},
   "outputs": [
    {
     "data": {
      "text/plain": [
       "date     object\n",
       "ind       int64\n",
       "rain     object\n",
       "ind.1     int64\n",
       "temp     object\n",
       "ind.2     int64\n",
       "wetb     object\n",
       "dewpt    object\n",
       "vappr    object\n",
       "rhum     object\n",
       "msl      object\n",
       "dtype: object"
      ]
     },
     "execution_count": 3,
     "metadata": {},
     "output_type": "execute_result"
    }
   ],
   "source": [
    "data.dtypes"
   ]
  },
  {
   "cell_type": "markdown",
   "metadata": {},
   "source": [
    "date:  -  Date and Time (utc)<br>\n",
    "rain:  -  Precipitation Amount (mm)<br>  \n",
    "temp:  -  Air Temperature (C)<br>\t\n",
    "wetb:  -  Wet Bulb Temperature (C)<br>\n",
    "dewpt: -  Dew Point Temperature (C)<br>\n",
    "vappr: -  Vapour Pressure (hPa)\t<br>\t                 \n",
    "rhum:  -  Relative Humidity (%) <br>\n",
    "msl:   -  Mean Sea Level Pressure (hPa)<br>\n",
    "ind:   -  Indicator"
   ]
  },
  {
   "cell_type": "code",
   "execution_count": 4,
   "metadata": {},
   "outputs": [
    {
     "data": {
      "text/html": [
       "<div>\n",
       "<style scoped>\n",
       "    .dataframe tbody tr th:only-of-type {\n",
       "        vertical-align: middle;\n",
       "    }\n",
       "\n",
       "    .dataframe tbody tr th {\n",
       "        vertical-align: top;\n",
       "    }\n",
       "\n",
       "    .dataframe thead th {\n",
       "        text-align: right;\n",
       "    }\n",
       "</style>\n",
       "<table border=\"1\" class=\"dataframe\">\n",
       "  <thead>\n",
       "    <tr style=\"text-align: right;\">\n",
       "      <th></th>\n",
       "      <th>date</th>\n",
       "      <th>ind</th>\n",
       "      <th>rain</th>\n",
       "      <th>ind.1</th>\n",
       "      <th>temp</th>\n",
       "      <th>ind.2</th>\n",
       "      <th>wetb</th>\n",
       "      <th>dewpt</th>\n",
       "      <th>vappr</th>\n",
       "      <th>rhum</th>\n",
       "      <th>msl</th>\n",
       "    </tr>\n",
       "  </thead>\n",
       "  <tbody>\n",
       "    <tr>\n",
       "      <th>0</th>\n",
       "      <td>01-may-2005 01:00</td>\n",
       "      <td>0</td>\n",
       "      <td>0.0</td>\n",
       "      <td>0</td>\n",
       "      <td>9.1</td>\n",
       "      <td>0</td>\n",
       "      <td>8.8</td>\n",
       "      <td>8.5</td>\n",
       "      <td>11.1</td>\n",
       "      <td>96</td>\n",
       "      <td>1005.7</td>\n",
       "    </tr>\n",
       "    <tr>\n",
       "      <th>1</th>\n",
       "      <td>01-may-2005 02:00</td>\n",
       "      <td>0</td>\n",
       "      <td>0.1</td>\n",
       "      <td>0</td>\n",
       "      <td>9.6</td>\n",
       "      <td>0</td>\n",
       "      <td>9.3</td>\n",
       "      <td>9.0</td>\n",
       "      <td>11.5</td>\n",
       "      <td>95</td>\n",
       "      <td>1004.8</td>\n",
       "    </tr>\n",
       "    <tr>\n",
       "      <th>2</th>\n",
       "      <td>01-may-2005 03:00</td>\n",
       "      <td>0</td>\n",
       "      <td>0.0</td>\n",
       "      <td>0</td>\n",
       "      <td>10.0</td>\n",
       "      <td>0</td>\n",
       "      <td>9.7</td>\n",
       "      <td>9.3</td>\n",
       "      <td>11.7</td>\n",
       "      <td>95</td>\n",
       "      <td>1003.5</td>\n",
       "    </tr>\n",
       "    <tr>\n",
       "      <th>3</th>\n",
       "      <td>01-may-2005 04:00</td>\n",
       "      <td>0</td>\n",
       "      <td>0.0</td>\n",
       "      <td>0</td>\n",
       "      <td>10.1</td>\n",
       "      <td>0</td>\n",
       "      <td>9.8</td>\n",
       "      <td>9.4</td>\n",
       "      <td>11.8</td>\n",
       "      <td>95</td>\n",
       "      <td>1002.8</td>\n",
       "    </tr>\n",
       "    <tr>\n",
       "      <th>4</th>\n",
       "      <td>01-may-2005 05:00</td>\n",
       "      <td>0</td>\n",
       "      <td>0.0</td>\n",
       "      <td>0</td>\n",
       "      <td>10.2</td>\n",
       "      <td>0</td>\n",
       "      <td>9.8</td>\n",
       "      <td>9.4</td>\n",
       "      <td>11.8</td>\n",
       "      <td>94</td>\n",
       "      <td>1002.2</td>\n",
       "    </tr>\n",
       "  </tbody>\n",
       "</table>\n",
       "</div>"
      ],
      "text/plain": [
       "                date  ind rain  ind.1  temp  ind.2 wetb dewpt vappr rhum  \\\n",
       "0  01-may-2005 01:00    0  0.0      0   9.1      0  8.8   8.5  11.1   96   \n",
       "1  01-may-2005 02:00    0  0.1      0   9.6      0  9.3   9.0  11.5   95   \n",
       "2  01-may-2005 03:00    0  0.0      0  10.0      0  9.7   9.3  11.7   95   \n",
       "3  01-may-2005 04:00    0  0.0      0  10.1      0  9.8   9.4  11.8   95   \n",
       "4  01-may-2005 05:00    0  0.0      0  10.2      0  9.8   9.4  11.8   94   \n",
       "\n",
       "      msl  \n",
       "0  1005.7  \n",
       "1  1004.8  \n",
       "2  1003.5  \n",
       "3  1002.8  \n",
       "4  1002.2  "
      ]
     },
     "execution_count": 4,
     "metadata": {},
     "output_type": "execute_result"
    }
   ],
   "source": [
    "data.head()"
   ]
  },
  {
   "cell_type": "code",
   "execution_count": 5,
   "metadata": {},
   "outputs": [
    {
     "data": {
      "text/html": [
       "<div>\n",
       "<style scoped>\n",
       "    .dataframe tbody tr th:only-of-type {\n",
       "        vertical-align: middle;\n",
       "    }\n",
       "\n",
       "    .dataframe tbody tr th {\n",
       "        vertical-align: top;\n",
       "    }\n",
       "\n",
       "    .dataframe thead th {\n",
       "        text-align: right;\n",
       "    }\n",
       "</style>\n",
       "<table border=\"1\" class=\"dataframe\">\n",
       "  <thead>\n",
       "    <tr style=\"text-align: right;\">\n",
       "      <th></th>\n",
       "      <th>date</th>\n",
       "      <th>ind</th>\n",
       "      <th>rain</th>\n",
       "      <th>ind.1</th>\n",
       "      <th>temp</th>\n",
       "      <th>ind.2</th>\n",
       "      <th>wetb</th>\n",
       "      <th>dewpt</th>\n",
       "      <th>vappr</th>\n",
       "      <th>rhum</th>\n",
       "      <th>msl</th>\n",
       "    </tr>\n",
       "  </thead>\n",
       "  <tbody>\n",
       "    <tr>\n",
       "      <th>120139</th>\n",
       "      <td>31-may-2020 20:00</td>\n",
       "      <td>0</td>\n",
       "      <td>0.0</td>\n",
       "      <td>0</td>\n",
       "      <td>16.6</td>\n",
       "      <td>0</td>\n",
       "      <td>12.4</td>\n",
       "      <td>8.5</td>\n",
       "      <td>11.1</td>\n",
       "      <td>58</td>\n",
       "      <td>1023.5</td>\n",
       "    </tr>\n",
       "    <tr>\n",
       "      <th>120140</th>\n",
       "      <td>31-may-2020 21:00</td>\n",
       "      <td>0</td>\n",
       "      <td>0.0</td>\n",
       "      <td>0</td>\n",
       "      <td>13.5</td>\n",
       "      <td>0</td>\n",
       "      <td>11</td>\n",
       "      <td>8.6</td>\n",
       "      <td>11.2</td>\n",
       "      <td>72</td>\n",
       "      <td>1024</td>\n",
       "    </tr>\n",
       "    <tr>\n",
       "      <th>120141</th>\n",
       "      <td>31-may-2020 22:00</td>\n",
       "      <td>0</td>\n",
       "      <td>0.0</td>\n",
       "      <td>0</td>\n",
       "      <td>12.2</td>\n",
       "      <td>0</td>\n",
       "      <td>10.4</td>\n",
       "      <td>8.6</td>\n",
       "      <td>11.2</td>\n",
       "      <td>78</td>\n",
       "      <td>1024.2</td>\n",
       "    </tr>\n",
       "    <tr>\n",
       "      <th>120142</th>\n",
       "      <td>31-may-2020 23:00</td>\n",
       "      <td>0</td>\n",
       "      <td>0.0</td>\n",
       "      <td>0</td>\n",
       "      <td>11.5</td>\n",
       "      <td>0</td>\n",
       "      <td>10.2</td>\n",
       "      <td>8.8</td>\n",
       "      <td>11.3</td>\n",
       "      <td>83</td>\n",
       "      <td>1024.1</td>\n",
       "    </tr>\n",
       "    <tr>\n",
       "      <th>120143</th>\n",
       "      <td>01-jun-2020 00:00</td>\n",
       "      <td>0</td>\n",
       "      <td>0.0</td>\n",
       "      <td>0</td>\n",
       "      <td>10.7</td>\n",
       "      <td>0</td>\n",
       "      <td>9.6</td>\n",
       "      <td>8.5</td>\n",
       "      <td>11.1</td>\n",
       "      <td>86</td>\n",
       "      <td>1024.2</td>\n",
       "    </tr>\n",
       "  </tbody>\n",
       "</table>\n",
       "</div>"
      ],
      "text/plain": [
       "                     date  ind rain  ind.1  temp  ind.2  wetb dewpt vappr  \\\n",
       "120139  31-may-2020 20:00    0  0.0      0  16.6      0  12.4   8.5  11.1   \n",
       "120140  31-may-2020 21:00    0  0.0      0  13.5      0    11   8.6  11.2   \n",
       "120141  31-may-2020 22:00    0  0.0      0  12.2      0  10.4   8.6  11.2   \n",
       "120142  31-may-2020 23:00    0  0.0      0  11.5      0  10.2   8.8  11.3   \n",
       "120143  01-jun-2020 00:00    0  0.0      0  10.7      0   9.6   8.5  11.1   \n",
       "\n",
       "       rhum     msl  \n",
       "120139   58  1023.5  \n",
       "120140   72    1024  \n",
       "120141   78  1024.2  \n",
       "120142   83  1024.1  \n",
       "120143   86  1024.2  "
      ]
     },
     "execution_count": 5,
     "metadata": {},
     "output_type": "execute_result"
    }
   ],
   "source": [
    "data.tail()"
   ]
  },
  {
   "cell_type": "code",
   "execution_count": 6,
   "metadata": {},
   "outputs": [
    {
     "data": {
      "text/plain": [
       "(120144, 11)"
      ]
     },
     "execution_count": 6,
     "metadata": {},
     "output_type": "execute_result"
    }
   ],
   "source": [
    "data.shape"
   ]
  },
  {
   "cell_type": "code",
   "execution_count": 7,
   "metadata": {},
   "outputs": [],
   "source": [
    "# convert date into timestamp & select only relevant year\n",
    "data[\"date\"] = pd.to_datetime(data[\"date\"])"
   ]
  },
  {
   "cell_type": "code",
   "execution_count": 8,
   "metadata": {},
   "outputs": [
    {
     "data": {
      "text/html": [
       "<div>\n",
       "<style scoped>\n",
       "    .dataframe tbody tr th:only-of-type {\n",
       "        vertical-align: middle;\n",
       "    }\n",
       "\n",
       "    .dataframe tbody tr th {\n",
       "        vertical-align: top;\n",
       "    }\n",
       "\n",
       "    .dataframe thead th {\n",
       "        text-align: right;\n",
       "    }\n",
       "</style>\n",
       "<table border=\"1\" class=\"dataframe\">\n",
       "  <thead>\n",
       "    <tr style=\"text-align: right;\">\n",
       "      <th></th>\n",
       "      <th>date</th>\n",
       "      <th>ind</th>\n",
       "      <th>rain</th>\n",
       "      <th>ind.1</th>\n",
       "      <th>temp</th>\n",
       "      <th>ind.2</th>\n",
       "      <th>wetb</th>\n",
       "      <th>dewpt</th>\n",
       "      <th>vappr</th>\n",
       "      <th>rhum</th>\n",
       "      <th>msl</th>\n",
       "    </tr>\n",
       "  </thead>\n",
       "  <tbody>\n",
       "    <tr>\n",
       "      <th>0</th>\n",
       "      <td>2005-05-01 01:00:00</td>\n",
       "      <td>0</td>\n",
       "      <td>0.0</td>\n",
       "      <td>0</td>\n",
       "      <td>9.1</td>\n",
       "      <td>0</td>\n",
       "      <td>8.8</td>\n",
       "      <td>8.5</td>\n",
       "      <td>11.1</td>\n",
       "      <td>96</td>\n",
       "      <td>1005.7</td>\n",
       "    </tr>\n",
       "    <tr>\n",
       "      <th>1</th>\n",
       "      <td>2005-05-01 02:00:00</td>\n",
       "      <td>0</td>\n",
       "      <td>0.1</td>\n",
       "      <td>0</td>\n",
       "      <td>9.6</td>\n",
       "      <td>0</td>\n",
       "      <td>9.3</td>\n",
       "      <td>9.0</td>\n",
       "      <td>11.5</td>\n",
       "      <td>95</td>\n",
       "      <td>1004.8</td>\n",
       "    </tr>\n",
       "    <tr>\n",
       "      <th>2</th>\n",
       "      <td>2005-05-01 03:00:00</td>\n",
       "      <td>0</td>\n",
       "      <td>0.0</td>\n",
       "      <td>0</td>\n",
       "      <td>10.0</td>\n",
       "      <td>0</td>\n",
       "      <td>9.7</td>\n",
       "      <td>9.3</td>\n",
       "      <td>11.7</td>\n",
       "      <td>95</td>\n",
       "      <td>1003.5</td>\n",
       "    </tr>\n",
       "    <tr>\n",
       "      <th>3</th>\n",
       "      <td>2005-05-01 04:00:00</td>\n",
       "      <td>0</td>\n",
       "      <td>0.0</td>\n",
       "      <td>0</td>\n",
       "      <td>10.1</td>\n",
       "      <td>0</td>\n",
       "      <td>9.8</td>\n",
       "      <td>9.4</td>\n",
       "      <td>11.8</td>\n",
       "      <td>95</td>\n",
       "      <td>1002.8</td>\n",
       "    </tr>\n",
       "    <tr>\n",
       "      <th>4</th>\n",
       "      <td>2005-05-01 05:00:00</td>\n",
       "      <td>0</td>\n",
       "      <td>0.0</td>\n",
       "      <td>0</td>\n",
       "      <td>10.2</td>\n",
       "      <td>0</td>\n",
       "      <td>9.8</td>\n",
       "      <td>9.4</td>\n",
       "      <td>11.8</td>\n",
       "      <td>94</td>\n",
       "      <td>1002.2</td>\n",
       "    </tr>\n",
       "  </tbody>\n",
       "</table>\n",
       "</div>"
      ],
      "text/plain": [
       "                 date  ind rain  ind.1  temp  ind.2 wetb dewpt vappr rhum  \\\n",
       "0 2005-05-01 01:00:00    0  0.0      0   9.1      0  8.8   8.5  11.1   96   \n",
       "1 2005-05-01 02:00:00    0  0.1      0   9.6      0  9.3   9.0  11.5   95   \n",
       "2 2005-05-01 03:00:00    0  0.0      0  10.0      0  9.7   9.3  11.7   95   \n",
       "3 2005-05-01 04:00:00    0  0.0      0  10.1      0  9.8   9.4  11.8   95   \n",
       "4 2005-05-01 05:00:00    0  0.0      0  10.2      0  9.8   9.4  11.8   94   \n",
       "\n",
       "      msl  \n",
       "0  1005.7  \n",
       "1  1004.8  \n",
       "2  1003.5  \n",
       "3  1002.8  \n",
       "4  1002.2  "
      ]
     },
     "execution_count": 8,
     "metadata": {},
     "output_type": "execute_result"
    }
   ],
   "source": [
    "data.head()"
   ]
  },
  {
   "cell_type": "code",
   "execution_count": 9,
   "metadata": {},
   "outputs": [],
   "source": [
    "start_timestamp = pd.Timestamp(1514764800, unit=\"s\")   # 01/01/2018 00:00:00\n",
    "end_timestamp = pd.Timestamp(1546300800, unit=\"s\")     # 01/01/2019 00:00:00"
   ]
  },
  {
   "cell_type": "code",
   "execution_count": 10,
   "metadata": {},
   "outputs": [],
   "source": [
    "data = data[data[\"date\"] >= start_timestamp]\n",
    "data = data[data[\"date\"] <= end_timestamp]"
   ]
  },
  {
   "cell_type": "code",
   "execution_count": 11,
   "metadata": {},
   "outputs": [
    {
     "data": {
      "text/plain": [
       "(8761, 11)"
      ]
     },
     "execution_count": 11,
     "metadata": {},
     "output_type": "execute_result"
    }
   ],
   "source": [
    "data.shape"
   ]
  },
  {
   "cell_type": "code",
   "execution_count": 12,
   "metadata": {},
   "outputs": [
    {
     "data": {
      "text/html": [
       "<div>\n",
       "<style scoped>\n",
       "    .dataframe tbody tr th:only-of-type {\n",
       "        vertical-align: middle;\n",
       "    }\n",
       "\n",
       "    .dataframe tbody tr th {\n",
       "        vertical-align: top;\n",
       "    }\n",
       "\n",
       "    .dataframe thead th {\n",
       "        text-align: right;\n",
       "    }\n",
       "</style>\n",
       "<table border=\"1\" class=\"dataframe\">\n",
       "  <thead>\n",
       "    <tr style=\"text-align: right;\">\n",
       "      <th></th>\n",
       "      <th>date</th>\n",
       "      <th>ind</th>\n",
       "      <th>rain</th>\n",
       "      <th>ind.1</th>\n",
       "      <th>temp</th>\n",
       "      <th>ind.2</th>\n",
       "      <th>wetb</th>\n",
       "      <th>dewpt</th>\n",
       "      <th>vappr</th>\n",
       "      <th>rhum</th>\n",
       "      <th>msl</th>\n",
       "    </tr>\n",
       "  </thead>\n",
       "  <tbody>\n",
       "    <tr>\n",
       "      <th>98975</th>\n",
       "      <td>2018-01-01 00:00:00</td>\n",
       "      <td>0</td>\n",
       "      <td>0.0</td>\n",
       "      <td>0</td>\n",
       "      <td>4.6</td>\n",
       "      <td>0</td>\n",
       "      <td>3.5</td>\n",
       "      <td>1.8</td>\n",
       "      <td>6.9</td>\n",
       "      <td>82</td>\n",
       "      <td>991</td>\n",
       "    </tr>\n",
       "    <tr>\n",
       "      <th>98976</th>\n",
       "      <td>2018-01-01 01:00:00</td>\n",
       "      <td>0</td>\n",
       "      <td>0.1</td>\n",
       "      <td>0</td>\n",
       "      <td>4.7</td>\n",
       "      <td>0</td>\n",
       "      <td>3.6</td>\n",
       "      <td>1.8</td>\n",
       "      <td>7</td>\n",
       "      <td>81</td>\n",
       "      <td>991.1</td>\n",
       "    </tr>\n",
       "    <tr>\n",
       "      <th>98977</th>\n",
       "      <td>2018-01-01 02:00:00</td>\n",
       "      <td>0</td>\n",
       "      <td>0.0</td>\n",
       "      <td>0</td>\n",
       "      <td>4.8</td>\n",
       "      <td>0</td>\n",
       "      <td>3.7</td>\n",
       "      <td>1.9</td>\n",
       "      <td>7</td>\n",
       "      <td>81</td>\n",
       "      <td>991.1</td>\n",
       "    </tr>\n",
       "    <tr>\n",
       "      <th>98978</th>\n",
       "      <td>2018-01-01 03:00:00</td>\n",
       "      <td>0</td>\n",
       "      <td>0.0</td>\n",
       "      <td>0</td>\n",
       "      <td>4.9</td>\n",
       "      <td>0</td>\n",
       "      <td>3.8</td>\n",
       "      <td>2.2</td>\n",
       "      <td>7.2</td>\n",
       "      <td>82</td>\n",
       "      <td>990.7</td>\n",
       "    </tr>\n",
       "    <tr>\n",
       "      <th>98979</th>\n",
       "      <td>2018-01-01 04:00:00</td>\n",
       "      <td>0</td>\n",
       "      <td>0.0</td>\n",
       "      <td>0</td>\n",
       "      <td>5.3</td>\n",
       "      <td>0</td>\n",
       "      <td>4.1</td>\n",
       "      <td>2.3</td>\n",
       "      <td>7.2</td>\n",
       "      <td>81</td>\n",
       "      <td>990.3</td>\n",
       "    </tr>\n",
       "  </tbody>\n",
       "</table>\n",
       "</div>"
      ],
      "text/plain": [
       "                     date  ind rain  ind.1 temp  ind.2 wetb dewpt vappr rhum  \\\n",
       "98975 2018-01-01 00:00:00    0  0.0      0  4.6      0  3.5   1.8   6.9   82   \n",
       "98976 2018-01-01 01:00:00    0  0.1      0  4.7      0  3.6   1.8     7   81   \n",
       "98977 2018-01-01 02:00:00    0  0.0      0  4.8      0  3.7   1.9     7   81   \n",
       "98978 2018-01-01 03:00:00    0  0.0      0  4.9      0  3.8   2.2   7.2   82   \n",
       "98979 2018-01-01 04:00:00    0  0.0      0  5.3      0  4.1   2.3   7.2   81   \n",
       "\n",
       "         msl  \n",
       "98975    991  \n",
       "98976  991.1  \n",
       "98977  991.1  \n",
       "98978  990.7  \n",
       "98979  990.3  "
      ]
     },
     "execution_count": 12,
     "metadata": {},
     "output_type": "execute_result"
    }
   ],
   "source": [
    "data.head()"
   ]
  },
  {
   "cell_type": "code",
   "execution_count": 13,
   "metadata": {},
   "outputs": [
    {
     "name": "stdout",
     "output_type": "stream",
     "text": [
      "date: 8761\n",
      "ind: 2\n",
      "rain: 45\n",
      "ind.1: 1\n",
      "temp: 304\n",
      "ind.2: 1\n",
      "wetb: 243\n",
      "dewpt: 257\n",
      "vappr: 171\n",
      "rhum: 76\n",
      "msl: 584\n"
     ]
    }
   ],
   "source": [
    "# find unique values by column\n",
    "for col in data.columns:\n",
    "    print(\"%s: %d\" % (col, data[col].nunique()))"
   ]
  },
  {
   "cell_type": "code",
   "execution_count": 14,
   "metadata": {},
   "outputs": [
    {
     "data": {
      "text/plain": [
       " 0    8759\n",
       "-1       2\n",
       "Name: ind, dtype: int64"
      ]
     },
     "execution_count": 14,
     "metadata": {},
     "output_type": "execute_result"
    }
   ],
   "source": [
    "data[\"ind\"].value_counts()"
   ]
  },
  {
   "cell_type": "code",
   "execution_count": 15,
   "metadata": {},
   "outputs": [
    {
     "data": {
      "text/plain": [
       "0    8761\n",
       "Name: ind.1, dtype: int64"
      ]
     },
     "execution_count": 15,
     "metadata": {},
     "output_type": "execute_result"
    }
   ],
   "source": [
    "data[\"ind.1\"].value_counts()"
   ]
  },
  {
   "cell_type": "code",
   "execution_count": 16,
   "metadata": {},
   "outputs": [
    {
     "data": {
      "text/plain": [
       "0    8761\n",
       "Name: ind.2, dtype: int64"
      ]
     },
     "execution_count": 16,
     "metadata": {},
     "output_type": "execute_result"
    }
   ],
   "source": [
    "data[\"ind.2\"].value_counts()"
   ]
  },
  {
   "cell_type": "code",
   "execution_count": 17,
   "metadata": {},
   "outputs": [
    {
     "data": {
      "text/plain": [
       "'8.6'"
      ]
     },
     "execution_count": 17,
     "metadata": {},
     "output_type": "execute_result"
    }
   ],
   "source": [
    "data[\"rain\"].max()"
   ]
  },
  {
   "cell_type": "code",
   "execution_count": 18,
   "metadata": {},
   "outputs": [
    {
     "data": {
      "text/plain": [
       "date     0\n",
       "ind      0\n",
       "rain     0\n",
       "ind.1    0\n",
       "temp     0\n",
       "ind.2    0\n",
       "wetb     0\n",
       "dewpt    0\n",
       "vappr    0\n",
       "rhum     0\n",
       "msl      0\n",
       "dtype: int64"
      ]
     },
     "execution_count": 18,
     "metadata": {},
     "output_type": "execute_result"
    }
   ],
   "source": [
    "# check for null / missing values in the data\n",
    "data.isnull().sum()"
   ]
  },
  {
   "cell_type": "markdown",
   "metadata": {},
   "source": [
    "only interested in date, rainfall & temperature (for vallidation against other dataset) - drop all other features:<br>\n",
    "    ind: uniform across all rows<br>\n",
    "    ind.1: uniform across all rows<br>\n",
    "    ind.2: uniform across all rows<br>\n",
    "    wetb: wetbulb temp - think that actual temp & 'feels-like' temp are more important<br>\n",
    "    dewpt: think umlikely that dewpoint wil affect travel times<br>\n",
    "    vappr: think umlikely that vapour pressure wil affect travel times<br>\n",
    "    rhum: think umlikely that relative humidity wil affect travel times<br>\n",
    "    msl: think umlikely that mean-sea-level wil affect travel times<br>"
   ]
  },
  {
   "cell_type": "code",
   "execution_count": 19,
   "metadata": {},
   "outputs": [],
   "source": [
    "data.drop(columns=[\"ind\", \"ind.1\", \"ind.2\", \"wetb\", \"dewpt\", \"vappr\", \"rhum\", \"msl\"], inplace=True)"
   ]
  },
  {
   "cell_type": "code",
   "execution_count": 20,
   "metadata": {},
   "outputs": [
    {
     "data": {
      "text/html": [
       "<div>\n",
       "<style scoped>\n",
       "    .dataframe tbody tr th:only-of-type {\n",
       "        vertical-align: middle;\n",
       "    }\n",
       "\n",
       "    .dataframe tbody tr th {\n",
       "        vertical-align: top;\n",
       "    }\n",
       "\n",
       "    .dataframe thead th {\n",
       "        text-align: right;\n",
       "    }\n",
       "</style>\n",
       "<table border=\"1\" class=\"dataframe\">\n",
       "  <thead>\n",
       "    <tr style=\"text-align: right;\">\n",
       "      <th></th>\n",
       "      <th>date</th>\n",
       "      <th>rain</th>\n",
       "      <th>temp</th>\n",
       "    </tr>\n",
       "  </thead>\n",
       "  <tbody>\n",
       "    <tr>\n",
       "      <th>98975</th>\n",
       "      <td>2018-01-01 00:00:00</td>\n",
       "      <td>0.0</td>\n",
       "      <td>4.6</td>\n",
       "    </tr>\n",
       "    <tr>\n",
       "      <th>98976</th>\n",
       "      <td>2018-01-01 01:00:00</td>\n",
       "      <td>0.1</td>\n",
       "      <td>4.7</td>\n",
       "    </tr>\n",
       "    <tr>\n",
       "      <th>98977</th>\n",
       "      <td>2018-01-01 02:00:00</td>\n",
       "      <td>0.0</td>\n",
       "      <td>4.8</td>\n",
       "    </tr>\n",
       "    <tr>\n",
       "      <th>98978</th>\n",
       "      <td>2018-01-01 03:00:00</td>\n",
       "      <td>0.0</td>\n",
       "      <td>4.9</td>\n",
       "    </tr>\n",
       "    <tr>\n",
       "      <th>98979</th>\n",
       "      <td>2018-01-01 04:00:00</td>\n",
       "      <td>0.0</td>\n",
       "      <td>5.3</td>\n",
       "    </tr>\n",
       "  </tbody>\n",
       "</table>\n",
       "</div>"
      ],
      "text/plain": [
       "                     date rain temp\n",
       "98975 2018-01-01 00:00:00  0.0  4.6\n",
       "98976 2018-01-01 01:00:00  0.1  4.7\n",
       "98977 2018-01-01 02:00:00  0.0  4.8\n",
       "98978 2018-01-01 03:00:00  0.0  4.9\n",
       "98979 2018-01-01 04:00:00  0.0  5.3"
      ]
     },
     "execution_count": 20,
     "metadata": {},
     "output_type": "execute_result"
    }
   ],
   "source": [
    "data.head()"
   ]
  },
  {
   "cell_type": "code",
   "execution_count": 21,
   "metadata": {},
   "outputs": [
    {
     "data": {
      "text/plain": [
       "date    datetime64[ns]\n",
       "rain            object\n",
       "temp            object\n",
       "dtype: object"
      ]
     },
     "execution_count": 21,
     "metadata": {},
     "output_type": "execute_result"
    }
   ],
   "source": [
    "data.dtypes"
   ]
  },
  {
   "cell_type": "code",
   "execution_count": 22,
   "metadata": {},
   "outputs": [
    {
     "name": "stdout",
     "output_type": "stream",
     "text": [
      " \n",
      " \n",
      "2\n",
      "0\n"
     ]
    }
   ],
   "source": [
    "# bind rain as type string\n",
    "data[\"rain\"].astype(str)\n",
    "# bind temp as type string\n",
    "data[\"temp\"].astype(str)\n",
    "\n",
    "t_0 = 0\n",
    "r_0 = 0\n",
    "\n",
    "\n",
    "for i in data.index:\n",
    "    r = data.loc[i, \"rain\"]\n",
    "    t = data.loc[i, \"temp\"]\n",
    "    \n",
    "    try:\n",
    "        r_float = float(r.strip())\n",
    "    except:\n",
    "        try:\n",
    "            r_float = float(r)\n",
    "        except:\n",
    "            print(r)\n",
    "            r_float = 0\n",
    "            r_0 += 1\n",
    "    \n",
    "    data.loc[i, \"rain\"] = r_float\n",
    "    \n",
    "    try:\n",
    "        t_float = float(t.strip())\n",
    "    except:\n",
    "        try:\n",
    "            t_float = float(t)\n",
    "        except:\n",
    "            print(t)\n",
    "            t_float = 0\n",
    "            t_0 += 1\n",
    "    \n",
    "    data.loc[i, \"temp\"] = t_float\n",
    "    \n",
    "print(r_0)\n",
    "print(t_0)"
   ]
  },
  {
   "cell_type": "markdown",
   "metadata": {},
   "source": [
    "The above code searches all values of \"rain\" and \"temp\" and replaces empty strings with \"0\" "
   ]
  },
  {
   "cell_type": "code",
   "execution_count": 24,
   "metadata": {},
   "outputs": [
    {
     "data": {
      "text/plain": [
       "98975     0.0\n",
       "98976     0.1\n",
       "98977     0.0\n",
       "98978     0.0\n",
       "98979     0.0\n",
       "         ... \n",
       "107731    0.0\n",
       "107732    0.0\n",
       "107733    0.0\n",
       "107734    0.0\n",
       "107735    0.0\n",
       "Name: rain, Length: 8761, dtype: float64"
      ]
     },
     "execution_count": 24,
     "metadata": {},
     "output_type": "execute_result"
    }
   ],
   "source": [
    "# cast rain & temp as type float\n",
    "data[\"temp\"].astype(float)\n",
    "data[\"rain\"].astype(float)"
   ]
  },
  {
   "cell_type": "code",
   "execution_count": 26,
   "metadata": {},
   "outputs": [
    {
     "data": {
      "text/plain": [
       "True"
      ]
     },
     "execution_count": 26,
     "metadata": {},
     "output_type": "execute_result"
    }
   ],
   "source": [
    "# double check that all datetimes are unique\n",
    "data[\"date\"].nunique() == len(data[\"date\"])"
   ]
  },
  {
   "cell_type": "code",
   "execution_count": 28,
   "metadata": {},
   "outputs": [],
   "source": [
    "# save cleaned data\n",
    "data.to_csv(\"met_eireann_historical_cleaned.csv\", index=False)"
   ]
  },
  {
   "cell_type": "code",
   "execution_count": null,
   "metadata": {},
   "outputs": [],
   "source": []
  }
 ],
 "metadata": {
  "kernelspec": {
   "display_name": "Python 3",
   "language": "python",
   "name": "python3"
  },
  "language_info": {
   "codemirror_mode": {
    "name": "ipython",
    "version": 3
   },
   "file_extension": ".py",
   "mimetype": "text/x-python",
   "name": "python",
   "nbconvert_exporter": "python",
   "pygments_lexer": "ipython3",
   "version": "3.7.7"
  }
 },
 "nbformat": 4,
 "nbformat_minor": 4
}
