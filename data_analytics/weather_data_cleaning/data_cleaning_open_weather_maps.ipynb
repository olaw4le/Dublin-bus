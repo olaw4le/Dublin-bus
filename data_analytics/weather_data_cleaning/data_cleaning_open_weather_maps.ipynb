{
 "cells": [
  {
   "cell_type": "code",
   "execution_count": 1,
   "metadata": {},
   "outputs": [],
   "source": [
    "import pandas as pd\n",
    "from datetime import datetime as dt"
   ]
  },
  {
   "cell_type": "code",
   "execution_count": 2,
   "metadata": {},
   "outputs": [],
   "source": [
    "data = pd.read_csv(\"OpenWeatherMap_2017-2019.csv\")"
   ]
  },
  {
   "cell_type": "code",
   "execution_count": 3,
   "metadata": {},
   "outputs": [
    {
     "data": {
      "text/plain": [
       "8760"
      ]
     },
     "execution_count": 3,
     "metadata": {},
     "output_type": "execute_result"
    }
   ],
   "source": [
    "365*24"
   ]
  },
  {
   "cell_type": "code",
   "execution_count": 4,
   "metadata": {},
   "outputs": [
    {
     "data": {
      "text/plain": [
       "(26510, 25)"
      ]
     },
     "execution_count": 4,
     "metadata": {},
     "output_type": "execute_result"
    }
   ],
   "source": [
    "data.shape"
   ]
  },
  {
   "cell_type": "code",
   "execution_count": 5,
   "metadata": {},
   "outputs": [
    {
     "data": {
      "text/plain": [
       "dt                       int64\n",
       "dt_iso                  object\n",
       "timezone                 int64\n",
       "city_name               object\n",
       "lat                    float64\n",
       "lon                    float64\n",
       "temp                   float64\n",
       "feels_like             float64\n",
       "temp_min               float64\n",
       "temp_max               float64\n",
       "pressure                 int64\n",
       "sea_level              float64\n",
       "grnd_level             float64\n",
       "humidity                 int64\n",
       "wind_speed             float64\n",
       "wind_deg                 int64\n",
       "rain_1h                float64\n",
       "rain_3h                float64\n",
       "snow_1h                float64\n",
       "snow_3h                float64\n",
       "clouds_all               int64\n",
       "weather_id               int64\n",
       "weather_main            object\n",
       "weather_description     object\n",
       "weather_icon            object\n",
       "dtype: object"
      ]
     },
     "execution_count": 5,
     "metadata": {},
     "output_type": "execute_result"
    }
   ],
   "source": [
    "# check datatypes in columns\n",
    "data.dtypes"
   ]
  },
  {
   "cell_type": "code",
   "execution_count": 6,
   "metadata": {},
   "outputs": [
    {
     "data": {
      "text/plain": [
       "dt                         0\n",
       "dt_iso                     0\n",
       "timezone                   0\n",
       "city_name                  0\n",
       "lat                        0\n",
       "lon                        0\n",
       "temp                       0\n",
       "feels_like                 0\n",
       "temp_min                   0\n",
       "temp_max                   0\n",
       "pressure                   0\n",
       "sea_level              26510\n",
       "grnd_level             26510\n",
       "humidity                   0\n",
       "wind_speed                 0\n",
       "wind_deg                   0\n",
       "rain_1h                25414\n",
       "rain_3h                26510\n",
       "snow_1h                26507\n",
       "snow_3h                26510\n",
       "clouds_all                 0\n",
       "weather_id                 0\n",
       "weather_main               0\n",
       "weather_description        0\n",
       "weather_icon               0\n",
       "dtype: int64"
      ]
     },
     "execution_count": 6,
     "metadata": {},
     "output_type": "execute_result"
    }
   ],
   "source": [
    "# check for missing values in columns\n",
    "data.isnull().sum()"
   ]
  },
  {
   "cell_type": "markdown",
   "metadata": {},
   "source": [
    "As there are a total of 26510 instaces in the dataframe we can summise that features: sea_level, grnd_level, rain_3h and snow_3h are empty"
   ]
  },
  {
   "cell_type": "code",
   "execution_count": 7,
   "metadata": {},
   "outputs": [],
   "source": [
    "# drop empty features\n",
    "data.drop(columns=[\"grnd_level\", \"sea_level\", \"rain_3h\", \"snow_3h\"], inplace=True)"
   ]
  },
  {
   "cell_type": "code",
   "execution_count": 8,
   "metadata": {},
   "outputs": [
    {
     "data": {
      "text/plain": [
       "dt                     False\n",
       "dt_iso                 False\n",
       "timezone               False\n",
       "city_name              False\n",
       "lat                    False\n",
       "lon                    False\n",
       "temp                   False\n",
       "feels_like             False\n",
       "temp_min               False\n",
       "temp_max               False\n",
       "pressure               False\n",
       "humidity               False\n",
       "wind_speed             False\n",
       "wind_deg               False\n",
       "rain_1h                False\n",
       "snow_1h                False\n",
       "clouds_all             False\n",
       "weather_id             False\n",
       "weather_main           False\n",
       "weather_description    False\n",
       "weather_icon           False\n",
       "dtype: bool"
      ]
     },
     "execution_count": 8,
     "metadata": {},
     "output_type": "execute_result"
    }
   ],
   "source": [
    "# check for duplicated features\n",
    "temp = data.T\n",
    "temp.duplicated()"
   ]
  },
  {
   "cell_type": "markdown",
   "metadata": {},
   "source": [
    "No duplicate features"
   ]
  },
  {
   "cell_type": "code",
   "execution_count": 9,
   "metadata": {},
   "outputs": [
    {
     "data": {
      "text/plain": [
       "26280"
      ]
     },
     "execution_count": 9,
     "metadata": {},
     "output_type": "execute_result"
    }
   ],
   "source": [
    "# check values for dt\n",
    "data[\"dt\"].nunique()"
   ]
  },
  {
   "cell_type": "code",
   "execution_count": 10,
   "metadata": {},
   "outputs": [
    {
     "name": "stdout",
     "output_type": "stream",
     "text": [
      "2017-01-01 00:00:00\n",
      "2019-12-31 23:00:00\n"
     ]
    }
   ],
   "source": [
    "print(dt.fromtimestamp(data[\"dt\"].min()))\n",
    "print(dt.fromtimestamp(data[\"dt\"].max()))"
   ]
  },
  {
   "cell_type": "code",
   "execution_count": 11,
   "metadata": {},
   "outputs": [],
   "source": [
    "start_timestamp = 1514764800   # 01/01/2018 00:00:00\n",
    "end_timestamp = 1546300800     # 01/01/2019 00:00:00"
   ]
  },
  {
   "cell_type": "code",
   "execution_count": 12,
   "metadata": {},
   "outputs": [],
   "source": [
    "data = data[data[\"dt\"] >= start_timestamp]\n",
    "data = data[data[\"dt\"] <= end_timestamp]"
   ]
  },
  {
   "cell_type": "code",
   "execution_count": 13,
   "metadata": {},
   "outputs": [
    {
     "name": "stdout",
     "output_type": "stream",
     "text": [
      "2018-01-01 00:00:00\n",
      "2019-01-01 00:00:00\n"
     ]
    }
   ],
   "source": [
    "print(dt.fromtimestamp(data[\"dt\"].min()))\n",
    "print(dt.fromtimestamp(data[\"dt\"].max()))"
   ]
  },
  {
   "cell_type": "code",
   "execution_count": 14,
   "metadata": {},
   "outputs": [
    {
     "data": {
      "text/plain": [
       "(8801, 21)"
      ]
     },
     "execution_count": 14,
     "metadata": {},
     "output_type": "execute_result"
    }
   ],
   "source": [
    "data.shape"
   ]
  },
  {
   "cell_type": "markdown",
   "metadata": {},
   "source": [
    "Fewer unique datetime values than unique rows"
   ]
  },
  {
   "cell_type": "code",
   "execution_count": 15,
   "metadata": {},
   "outputs": [
    {
     "data": {
      "text/plain": [
       "8761"
      ]
     },
     "execution_count": 15,
     "metadata": {},
     "output_type": "execute_result"
    }
   ],
   "source": [
    "# check values for dt_iso\n",
    "data[\"dt_iso\"].nunique()"
   ]
  },
  {
   "cell_type": "markdown",
   "metadata": {},
   "source": [
    "Matches numer of unique values for feature 'dt'"
   ]
  },
  {
   "cell_type": "code",
   "execution_count": 16,
   "metadata": {},
   "outputs": [
    {
     "data": {
      "text/html": [
       "<div>\n",
       "<style scoped>\n",
       "    .dataframe tbody tr th:only-of-type {\n",
       "        vertical-align: middle;\n",
       "    }\n",
       "\n",
       "    .dataframe tbody tr th {\n",
       "        vertical-align: top;\n",
       "    }\n",
       "\n",
       "    .dataframe thead th {\n",
       "        text-align: right;\n",
       "    }\n",
       "</style>\n",
       "<table border=\"1\" class=\"dataframe\">\n",
       "  <thead>\n",
       "    <tr style=\"text-align: right;\">\n",
       "      <th></th>\n",
       "      <th>dt</th>\n",
       "      <th>dt_iso</th>\n",
       "      <th>timezone</th>\n",
       "      <th>city_name</th>\n",
       "      <th>lat</th>\n",
       "      <th>lon</th>\n",
       "      <th>temp</th>\n",
       "      <th>feels_like</th>\n",
       "      <th>temp_min</th>\n",
       "      <th>temp_max</th>\n",
       "      <th>...</th>\n",
       "      <th>humidity</th>\n",
       "      <th>wind_speed</th>\n",
       "      <th>wind_deg</th>\n",
       "      <th>rain_1h</th>\n",
       "      <th>snow_1h</th>\n",
       "      <th>clouds_all</th>\n",
       "      <th>weather_id</th>\n",
       "      <th>weather_main</th>\n",
       "      <th>weather_description</th>\n",
       "      <th>weather_icon</th>\n",
       "    </tr>\n",
       "  </thead>\n",
       "  <tbody>\n",
       "    <tr>\n",
       "      <th>8779</th>\n",
       "      <td>1514764800</td>\n",
       "      <td>2018-01-01 00:00:00 +0000 UTC</td>\n",
       "      <td>0</td>\n",
       "      <td>Dublin</td>\n",
       "      <td>53.349805</td>\n",
       "      <td>-6.26031</td>\n",
       "      <td>4.15</td>\n",
       "      <td>-6.49</td>\n",
       "      <td>3.84</td>\n",
       "      <td>5.79</td>\n",
       "      <td>...</td>\n",
       "      <td>87</td>\n",
       "      <td>12.86</td>\n",
       "      <td>240</td>\n",
       "      <td>NaN</td>\n",
       "      <td>NaN</td>\n",
       "      <td>40</td>\n",
       "      <td>520</td>\n",
       "      <td>Rain</td>\n",
       "      <td>light intensity shower rain</td>\n",
       "      <td>09n</td>\n",
       "    </tr>\n",
       "    <tr>\n",
       "      <th>8780</th>\n",
       "      <td>1514768400</td>\n",
       "      <td>2018-01-01 01:00:00 +0000 UTC</td>\n",
       "      <td>0</td>\n",
       "      <td>Dublin</td>\n",
       "      <td>53.349805</td>\n",
       "      <td>-6.26031</td>\n",
       "      <td>4.14</td>\n",
       "      <td>-5.79</td>\n",
       "      <td>3.65</td>\n",
       "      <td>5.86</td>\n",
       "      <td>...</td>\n",
       "      <td>87</td>\n",
       "      <td>11.83</td>\n",
       "      <td>240</td>\n",
       "      <td>NaN</td>\n",
       "      <td>NaN</td>\n",
       "      <td>75</td>\n",
       "      <td>520</td>\n",
       "      <td>Rain</td>\n",
       "      <td>light intensity shower rain</td>\n",
       "      <td>09n</td>\n",
       "    </tr>\n",
       "    <tr>\n",
       "      <th>8781</th>\n",
       "      <td>1514772000</td>\n",
       "      <td>2018-01-01 02:00:00 +0000 UTC</td>\n",
       "      <td>0</td>\n",
       "      <td>Dublin</td>\n",
       "      <td>53.349805</td>\n",
       "      <td>-6.26031</td>\n",
       "      <td>4.61</td>\n",
       "      <td>-5.77</td>\n",
       "      <td>3.85</td>\n",
       "      <td>5.99</td>\n",
       "      <td>...</td>\n",
       "      <td>81</td>\n",
       "      <td>12.35</td>\n",
       "      <td>240</td>\n",
       "      <td>NaN</td>\n",
       "      <td>NaN</td>\n",
       "      <td>40</td>\n",
       "      <td>802</td>\n",
       "      <td>Clouds</td>\n",
       "      <td>scattered clouds</td>\n",
       "      <td>03n</td>\n",
       "    </tr>\n",
       "    <tr>\n",
       "      <th>8782</th>\n",
       "      <td>1514775600</td>\n",
       "      <td>2018-01-01 03:00:00 +0000 UTC</td>\n",
       "      <td>0</td>\n",
       "      <td>Dublin</td>\n",
       "      <td>53.349805</td>\n",
       "      <td>-6.26031</td>\n",
       "      <td>4.64</td>\n",
       "      <td>-5.73</td>\n",
       "      <td>4.00</td>\n",
       "      <td>6.14</td>\n",
       "      <td>...</td>\n",
       "      <td>81</td>\n",
       "      <td>12.35</td>\n",
       "      <td>240</td>\n",
       "      <td>NaN</td>\n",
       "      <td>NaN</td>\n",
       "      <td>40</td>\n",
       "      <td>802</td>\n",
       "      <td>Clouds</td>\n",
       "      <td>scattered clouds</td>\n",
       "      <td>03n</td>\n",
       "    </tr>\n",
       "    <tr>\n",
       "      <th>8783</th>\n",
       "      <td>1514779200</td>\n",
       "      <td>2018-01-01 04:00:00 +0000 UTC</td>\n",
       "      <td>0</td>\n",
       "      <td>Dublin</td>\n",
       "      <td>53.349805</td>\n",
       "      <td>-6.26031</td>\n",
       "      <td>5.04</td>\n",
       "      <td>-4.91</td>\n",
       "      <td>4.11</td>\n",
       "      <td>6.22</td>\n",
       "      <td>...</td>\n",
       "      <td>81</td>\n",
       "      <td>11.83</td>\n",
       "      <td>240</td>\n",
       "      <td>NaN</td>\n",
       "      <td>NaN</td>\n",
       "      <td>40</td>\n",
       "      <td>802</td>\n",
       "      <td>Clouds</td>\n",
       "      <td>scattered clouds</td>\n",
       "      <td>03n</td>\n",
       "    </tr>\n",
       "  </tbody>\n",
       "</table>\n",
       "<p>5 rows × 21 columns</p>\n",
       "</div>"
      ],
      "text/plain": [
       "              dt                         dt_iso  timezone city_name  \\\n",
       "8779  1514764800  2018-01-01 00:00:00 +0000 UTC         0    Dublin   \n",
       "8780  1514768400  2018-01-01 01:00:00 +0000 UTC         0    Dublin   \n",
       "8781  1514772000  2018-01-01 02:00:00 +0000 UTC         0    Dublin   \n",
       "8782  1514775600  2018-01-01 03:00:00 +0000 UTC         0    Dublin   \n",
       "8783  1514779200  2018-01-01 04:00:00 +0000 UTC         0    Dublin   \n",
       "\n",
       "            lat      lon  temp  feels_like  temp_min  temp_max  ...  humidity  \\\n",
       "8779  53.349805 -6.26031  4.15       -6.49      3.84      5.79  ...        87   \n",
       "8780  53.349805 -6.26031  4.14       -5.79      3.65      5.86  ...        87   \n",
       "8781  53.349805 -6.26031  4.61       -5.77      3.85      5.99  ...        81   \n",
       "8782  53.349805 -6.26031  4.64       -5.73      4.00      6.14  ...        81   \n",
       "8783  53.349805 -6.26031  5.04       -4.91      4.11      6.22  ...        81   \n",
       "\n",
       "      wind_speed  wind_deg  rain_1h  snow_1h  clouds_all  weather_id  \\\n",
       "8779       12.86       240      NaN      NaN          40         520   \n",
       "8780       11.83       240      NaN      NaN          75         520   \n",
       "8781       12.35       240      NaN      NaN          40         802   \n",
       "8782       12.35       240      NaN      NaN          40         802   \n",
       "8783       11.83       240      NaN      NaN          40         802   \n",
       "\n",
       "      weather_main          weather_description weather_icon  \n",
       "8779          Rain  light intensity shower rain          09n  \n",
       "8780          Rain  light intensity shower rain          09n  \n",
       "8781        Clouds             scattered clouds          03n  \n",
       "8782        Clouds             scattered clouds          03n  \n",
       "8783        Clouds             scattered clouds          03n  \n",
       "\n",
       "[5 rows x 21 columns]"
      ]
     },
     "execution_count": 16,
     "metadata": {},
     "output_type": "execute_result"
    }
   ],
   "source": [
    "data.head()"
   ]
  },
  {
   "cell_type": "code",
   "execution_count": 17,
   "metadata": {},
   "outputs": [
    {
     "name": "stdout",
     "output_type": "stream",
     "text": [
      "0\n"
     ]
    }
   ],
   "source": [
    "count = 0\n",
    "for i in data.index:\n",
    "    \n",
    "    d = dt.strptime(data.loc[i, \"dt_iso\"][0:-10], \"%Y-%m-%d %H:%M:%S\").timestamp()\n",
    "    t = data.loc[i, \"dt\"]\n",
    "    \n",
    "    if d != t:\n",
    "        if d != (t - 3600):\n",
    "            print(\"%s - %s\" % (d, t))\n",
    "            count += 1\n",
    "        \n",
    "print(count)"
   ]
  },
  {
   "cell_type": "code",
   "execution_count": null,
   "metadata": {},
   "outputs": [],
   "source": []
  },
  {
   "cell_type": "markdown",
   "metadata": {},
   "source": [
    "Difference of hour in approx 26000 rows - daylight savings?"
   ]
  },
  {
   "cell_type": "code",
   "execution_count": 18,
   "metadata": {},
   "outputs": [
    {
     "data": {
      "text/plain": [
       "array([   0, 3600], dtype=int64)"
      ]
     },
     "execution_count": 18,
     "metadata": {},
     "output_type": "execute_result"
    }
   ],
   "source": [
    "# check values for timezone\n",
    "data[\"timezone\"].unique()"
   ]
  },
  {
   "cell_type": "code",
   "execution_count": 19,
   "metadata": {},
   "outputs": [
    {
     "data": {
      "text/plain": [
       "array(['Dublin'], dtype=object)"
      ]
     },
     "execution_count": 19,
     "metadata": {},
     "output_type": "execute_result"
    }
   ],
   "source": [
    "# check values for city_name\n",
    "data[\"city_name\"].unique()"
   ]
  },
  {
   "cell_type": "code",
   "execution_count": 20,
   "metadata": {},
   "outputs": [
    {
     "data": {
      "text/plain": [
       "array([53.349805])"
      ]
     },
     "execution_count": 20,
     "metadata": {},
     "output_type": "execute_result"
    }
   ],
   "source": [
    "# check values for lat\n",
    "data[\"lat\"].unique()"
   ]
  },
  {
   "cell_type": "code",
   "execution_count": 21,
   "metadata": {},
   "outputs": [
    {
     "data": {
      "text/plain": [
       "array([-6.26031])"
      ]
     },
     "execution_count": 21,
     "metadata": {},
     "output_type": "execute_result"
    }
   ],
   "source": [
    "# check values for lon\n",
    "data[\"lon\"].unique()"
   ]
  },
  {
   "cell_type": "code",
   "execution_count": 22,
   "metadata": {},
   "outputs": [
    {
     "name": "stdout",
     "output_type": "stream",
     "text": [
      "-4.96\n",
      "25.67\n"
     ]
    }
   ],
   "source": [
    "# check min temp value\n",
    "print(data[\"temp\"].min())\n",
    "# check max temp value\n",
    "print(data[\"temp\"].max())"
   ]
  },
  {
   "cell_type": "code",
   "execution_count": 23,
   "metadata": {},
   "outputs": [
    {
     "name": "stdout",
     "output_type": "stream",
     "text": [
      "-16.08\n",
      "24.77\n"
     ]
    }
   ],
   "source": [
    "# check min temp value\n",
    "print(data[\"feels_like\"].min())\n",
    "# check max temp value\n",
    "print(data[\"feels_like\"].max())"
   ]
  },
  {
   "cell_type": "code",
   "execution_count": null,
   "metadata": {},
   "outputs": [],
   "source": []
  },
  {
   "cell_type": "code",
   "execution_count": 24,
   "metadata": {},
   "outputs": [],
   "source": [
    "timestamps = 0\n",
    "features = []\n",
    "for i in data[\"dt\"].unique():\n",
    "    \n",
    "    df = data[data[\"dt\"] == i]\n",
    "    l = len(df)\n",
    "    if l > 1:\n",
    "        timestamps += l\n",
    "        for col in df.columns:\n",
    "            if len(df[col].value_counts()) > 1:\n",
    "                if col not in features:\n",
    "                    features.append(col)\n"
   ]
  },
  {
   "cell_type": "code",
   "execution_count": 25,
   "metadata": {},
   "outputs": [
    {
     "data": {
      "text/plain": [
       "80"
      ]
     },
     "execution_count": 25,
     "metadata": {},
     "output_type": "execute_result"
    }
   ],
   "source": [
    "timestamps"
   ]
  },
  {
   "cell_type": "code",
   "execution_count": 26,
   "metadata": {},
   "outputs": [
    {
     "data": {
      "text/plain": [
       "['weather_id', 'weather_main', 'weather_description', 'weather_icon']"
      ]
     },
     "execution_count": 26,
     "metadata": {},
     "output_type": "execute_result"
    }
   ],
   "source": [
    "features"
   ]
  },
  {
   "cell_type": "markdown",
   "metadata": {},
   "source": [
    "Some effective duplicate entries (40 duplicated) where all features match (datetime!) except for the weather description"
   ]
  },
  {
   "cell_type": "code",
   "execution_count": 27,
   "metadata": {},
   "outputs": [
    {
     "data": {
      "text/plain": [
       "Index(['dt', 'dt_iso', 'timezone', 'city_name', 'lat', 'lon', 'temp',\n",
       "       'feels_like', 'temp_min', 'temp_max', 'pressure', 'humidity',\n",
       "       'wind_speed', 'wind_deg', 'rain_1h', 'snow_1h', 'clouds_all',\n",
       "       'weather_id', 'weather_main', 'weather_description', 'weather_icon'],\n",
       "      dtype='object')"
      ]
     },
     "execution_count": 27,
     "metadata": {},
     "output_type": "execute_result"
    }
   ],
   "source": [
    "data.columns"
   ]
  },
  {
   "cell_type": "code",
   "execution_count": 28,
   "metadata": {},
   "outputs": [],
   "source": [
    "data.drop(columns=[\"temp_min\", \"temp_max\", \"rain_1h\", \"snow_1h\", \"clouds_all\", \"weather_id\", \"weather_icon\"], inplace=True)"
   ]
  },
  {
   "cell_type": "markdown",
   "metadata": {},
   "source": [
    "drop these features:<br>\n",
    "    temp_min: dropped in favour of average<br>\n",
    "    temp_max: dropped in favour of average<br>\n",
    "    rain_1h: predicting based on actual conditions not forecast<br>\n",
    "    snow_1h: predicting based on actual conditions not forecast<br>\n",
    "    clouds_all: think unlikely that percentage cloud cover could affect travel times<br>\n",
    "    weather_id: information specific to 'openweathermaps' system<br>\n",
    "    weather_icon: information specific to 'openweathermaps' system<br>"
   ]
  },
  {
   "cell_type": "code",
   "execution_count": 29,
   "metadata": {},
   "outputs": [
    {
     "data": {
      "text/html": [
       "<div>\n",
       "<style scoped>\n",
       "    .dataframe tbody tr th:only-of-type {\n",
       "        vertical-align: middle;\n",
       "    }\n",
       "\n",
       "    .dataframe tbody tr th {\n",
       "        vertical-align: top;\n",
       "    }\n",
       "\n",
       "    .dataframe thead th {\n",
       "        text-align: right;\n",
       "    }\n",
       "</style>\n",
       "<table border=\"1\" class=\"dataframe\">\n",
       "  <thead>\n",
       "    <tr style=\"text-align: right;\">\n",
       "      <th></th>\n",
       "      <th>dt</th>\n",
       "      <th>dt_iso</th>\n",
       "      <th>timezone</th>\n",
       "      <th>city_name</th>\n",
       "      <th>lat</th>\n",
       "      <th>lon</th>\n",
       "      <th>temp</th>\n",
       "      <th>feels_like</th>\n",
       "      <th>pressure</th>\n",
       "      <th>humidity</th>\n",
       "      <th>wind_speed</th>\n",
       "      <th>wind_deg</th>\n",
       "      <th>weather_main</th>\n",
       "      <th>weather_description</th>\n",
       "    </tr>\n",
       "  </thead>\n",
       "  <tbody>\n",
       "    <tr>\n",
       "      <th>8779</th>\n",
       "      <td>1514764800</td>\n",
       "      <td>2018-01-01 00:00:00 +0000 UTC</td>\n",
       "      <td>0</td>\n",
       "      <td>Dublin</td>\n",
       "      <td>53.349805</td>\n",
       "      <td>-6.26031</td>\n",
       "      <td>4.15</td>\n",
       "      <td>-6.49</td>\n",
       "      <td>990</td>\n",
       "      <td>87</td>\n",
       "      <td>12.86</td>\n",
       "      <td>240</td>\n",
       "      <td>Rain</td>\n",
       "      <td>light intensity shower rain</td>\n",
       "    </tr>\n",
       "    <tr>\n",
       "      <th>8780</th>\n",
       "      <td>1514768400</td>\n",
       "      <td>2018-01-01 01:00:00 +0000 UTC</td>\n",
       "      <td>0</td>\n",
       "      <td>Dublin</td>\n",
       "      <td>53.349805</td>\n",
       "      <td>-6.26031</td>\n",
       "      <td>4.14</td>\n",
       "      <td>-5.79</td>\n",
       "      <td>991</td>\n",
       "      <td>87</td>\n",
       "      <td>11.83</td>\n",
       "      <td>240</td>\n",
       "      <td>Rain</td>\n",
       "      <td>light intensity shower rain</td>\n",
       "    </tr>\n",
       "    <tr>\n",
       "      <th>8781</th>\n",
       "      <td>1514772000</td>\n",
       "      <td>2018-01-01 02:00:00 +0000 UTC</td>\n",
       "      <td>0</td>\n",
       "      <td>Dublin</td>\n",
       "      <td>53.349805</td>\n",
       "      <td>-6.26031</td>\n",
       "      <td>4.61</td>\n",
       "      <td>-5.77</td>\n",
       "      <td>990</td>\n",
       "      <td>81</td>\n",
       "      <td>12.35</td>\n",
       "      <td>240</td>\n",
       "      <td>Clouds</td>\n",
       "      <td>scattered clouds</td>\n",
       "    </tr>\n",
       "    <tr>\n",
       "      <th>8782</th>\n",
       "      <td>1514775600</td>\n",
       "      <td>2018-01-01 03:00:00 +0000 UTC</td>\n",
       "      <td>0</td>\n",
       "      <td>Dublin</td>\n",
       "      <td>53.349805</td>\n",
       "      <td>-6.26031</td>\n",
       "      <td>4.64</td>\n",
       "      <td>-5.73</td>\n",
       "      <td>990</td>\n",
       "      <td>81</td>\n",
       "      <td>12.35</td>\n",
       "      <td>240</td>\n",
       "      <td>Clouds</td>\n",
       "      <td>scattered clouds</td>\n",
       "    </tr>\n",
       "    <tr>\n",
       "      <th>8783</th>\n",
       "      <td>1514779200</td>\n",
       "      <td>2018-01-01 04:00:00 +0000 UTC</td>\n",
       "      <td>0</td>\n",
       "      <td>Dublin</td>\n",
       "      <td>53.349805</td>\n",
       "      <td>-6.26031</td>\n",
       "      <td>5.04</td>\n",
       "      <td>-4.91</td>\n",
       "      <td>990</td>\n",
       "      <td>81</td>\n",
       "      <td>11.83</td>\n",
       "      <td>240</td>\n",
       "      <td>Clouds</td>\n",
       "      <td>scattered clouds</td>\n",
       "    </tr>\n",
       "  </tbody>\n",
       "</table>\n",
       "</div>"
      ],
      "text/plain": [
       "              dt                         dt_iso  timezone city_name  \\\n",
       "8779  1514764800  2018-01-01 00:00:00 +0000 UTC         0    Dublin   \n",
       "8780  1514768400  2018-01-01 01:00:00 +0000 UTC         0    Dublin   \n",
       "8781  1514772000  2018-01-01 02:00:00 +0000 UTC         0    Dublin   \n",
       "8782  1514775600  2018-01-01 03:00:00 +0000 UTC         0    Dublin   \n",
       "8783  1514779200  2018-01-01 04:00:00 +0000 UTC         0    Dublin   \n",
       "\n",
       "            lat      lon  temp  feels_like  pressure  humidity  wind_speed  \\\n",
       "8779  53.349805 -6.26031  4.15       -6.49       990        87       12.86   \n",
       "8780  53.349805 -6.26031  4.14       -5.79       991        87       11.83   \n",
       "8781  53.349805 -6.26031  4.61       -5.77       990        81       12.35   \n",
       "8782  53.349805 -6.26031  4.64       -5.73       990        81       12.35   \n",
       "8783  53.349805 -6.26031  5.04       -4.91       990        81       11.83   \n",
       "\n",
       "      wind_deg weather_main          weather_description  \n",
       "8779       240         Rain  light intensity shower rain  \n",
       "8780       240         Rain  light intensity shower rain  \n",
       "8781       240       Clouds             scattered clouds  \n",
       "8782       240       Clouds             scattered clouds  \n",
       "8783       240       Clouds             scattered clouds  "
      ]
     },
     "execution_count": 29,
     "metadata": {},
     "output_type": "execute_result"
    }
   ],
   "source": [
    "data.head()"
   ]
  },
  {
   "cell_type": "code",
   "execution_count": 30,
   "metadata": {},
   "outputs": [
    {
     "data": {
      "text/plain": [
       "3600    5219\n",
       "0       3582\n",
       "Name: timezone, dtype: int64"
      ]
     },
     "execution_count": 30,
     "metadata": {},
     "output_type": "execute_result"
    }
   ],
   "source": [
    "data[\"timezone\"].value_counts()"
   ]
  },
  {
   "cell_type": "code",
   "execution_count": 31,
   "metadata": {},
   "outputs": [
    {
     "data": {
      "text/plain": [
       "8761"
      ]
     },
     "execution_count": 31,
     "metadata": {},
     "output_type": "execute_result"
    }
   ],
   "source": [
    "data[\"dt\"].nunique()"
   ]
  },
  {
   "cell_type": "code",
   "execution_count": 32,
   "metadata": {},
   "outputs": [
    {
     "data": {
      "text/plain": [
       "8761"
      ]
     },
     "execution_count": 32,
     "metadata": {},
     "output_type": "execute_result"
    }
   ],
   "source": [
    "data[\"dt_iso\"].nunique()"
   ]
  },
  {
   "cell_type": "code",
   "execution_count": 33,
   "metadata": {},
   "outputs": [
    {
     "data": {
      "text/plain": [
       "(8801, 14)"
      ]
     },
     "execution_count": 33,
     "metadata": {},
     "output_type": "execute_result"
    }
   ],
   "source": [
    "data.shape"
   ]
  },
  {
   "cell_type": "code",
   "execution_count": 34,
   "metadata": {},
   "outputs": [
    {
     "data": {
      "text/plain": [
       "Index(['dt', 'dt_iso', 'timezone', 'city_name', 'lat', 'lon', 'temp',\n",
       "       'feels_like', 'pressure', 'humidity', 'wind_speed', 'wind_deg',\n",
       "       'weather_main', 'weather_description'],\n",
       "      dtype='object')"
      ]
     },
     "execution_count": 34,
     "metadata": {},
     "output_type": "execute_result"
    }
   ],
   "source": [
    "data.columns"
   ]
  },
  {
   "cell_type": "markdown",
   "metadata": {},
   "source": [
    "Dropping features:<br>\n",
    "dt_iso: basically duplicates info from dt but in a different format<br>\n",
    "city_name: redundant, we know his is dublin & all rows are the same<br>\n",
    "lat: redundant, we know his is dublin & all rows are the same<br>\n",
    "lon: redundant, we know his is dublin & all rows are the same<br>\n",
    "pressure: unlikely to direclty impact travel times<br>\n",
    "himidity: unlikely to direclty impact travel times<br>"
   ]
  },
  {
   "cell_type": "code",
   "execution_count": 35,
   "metadata": {},
   "outputs": [],
   "source": [
    "data.drop(columns=[\"dt_iso\", \"city_name\", \"lat\", \"lon\", \"pressure\", \"humidity\"], inplace=True)"
   ]
  },
  {
   "cell_type": "code",
   "execution_count": 36,
   "metadata": {},
   "outputs": [],
   "source": [
    "data.to_csv(\"open_weather_cleaned.csv\", index=False)"
   ]
  },
  {
   "cell_type": "code",
   "execution_count": null,
   "metadata": {},
   "outputs": [],
   "source": []
  }
 ],
 "metadata": {
  "kernelspec": {
   "display_name": "Python 3",
   "language": "python",
   "name": "python3"
  },
  "language_info": {
   "codemirror_mode": {
    "name": "ipython",
    "version": 3
   },
   "file_extension": ".py",
   "mimetype": "text/x-python",
   "name": "python",
   "nbconvert_exporter": "python",
   "pygments_lexer": "ipython3",
   "version": "3.7.7"
  }
 },
 "nbformat": 4,
 "nbformat_minor": 4
}
